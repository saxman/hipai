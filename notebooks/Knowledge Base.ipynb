{
 "cells": [
  {
   "cell_type": "code",
   "execution_count": 1,
   "id": "f3dd3fda",
   "metadata": {},
   "outputs": [],
   "source": [
    "import chromadb\n",
    "\n",
    "from hipai import paths\n",
    "\n",
    "KNOWLEDGE_BASE_PATH = str(paths.data / \"chroma.db\")\n",
    "KNOWLEDGE_BASE_ID = \"messages_cosign_chunked_256\"\n",
    "\n",
    "client = chromadb.PersistentClient(path=KNOWLEDGE_BASE_PATH)\n",
    "collection = client.get_or_create_collection(name=KNOWLEDGE_BASE_ID)"
   ]
  },
  {
   "cell_type": "code",
   "execution_count": 2,
   "id": "b239544f",
   "metadata": {},
   "outputs": [],
   "source": [
    "documents = [\n",
    "    \"John is a software engineer with over 10 years of experience in Python and JavaScript.\",\n",
    "    \"John's wife, Jane, is a data scientist specializing in machine learning.\",\n",
    "    \"John and Jane have a son named Jack who is 5 years old.\",\n",
    "    \"John's brother, Mike, is a high school teacher.\",\n",
    "    \"Jane's sister, Lucy, is a nurse working in a local hospital.\",\n",
    "    \"John and Jane live in a house in the suburbs with their dog, Max.\",\n",
    "    \"Max is a golden retriever who loves to play fetch in the backyard.\",\n",
    "    \"John enjoys hiking and often takes Max with him on weekends.\",\n",
    "    \"Jane likes to cook and often tries new recipes from different cuisines.\",\n",
    "    \"Jack loves to play with his toys and watch cartoons on TV.\",\n",
    "    \"Mike enjoys reading books and often shares his recommendations with John.\",\n",
    "    \"Lucy is passionate about health and wellness, often sharing tips with Jane.\",\n",
    "    \"John and Jane often host family gatherings at their home.\",\n",
    "    \"Jack has a best friend named Sam who lives next door.\",\n",
    "    \"Sam's parents are also friends with John and Jane.\",\n",
    "    \"John and Jane often go on family trips during the summer vacations.\",\n",
    "    \"John's parents, Tom and Mary, visit them regularly.\",\n",
    "]\n",
    "\n",
    "collection.upsert(\n",
    "    documents=documents,\n",
    "    ids=[str(i) for i in range(len(documents))],\n",
    ")"
   ]
  }
 ],
 "metadata": {
  "kernelspec": {
   "display_name": ".venv",
   "language": "python",
   "name": "python3"
  },
  "language_info": {
   "codemirror_mode": {
    "name": "ipython",
    "version": 3
   },
   "file_extension": ".py",
   "mimetype": "text/x-python",
   "name": "python",
   "nbconvert_exporter": "python",
   "pygments_lexer": "ipython3",
   "version": "3.11.11"
  }
 },
 "nbformat": 4,
 "nbformat_minor": 5
}
